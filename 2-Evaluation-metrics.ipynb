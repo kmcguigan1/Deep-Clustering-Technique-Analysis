{
 "cells": [
  {
   "cell_type": "code",
   "execution_count": 64,
   "id": "39e4948f-1dab-485f-95a0-cac49dd9961d",
   "metadata": {},
   "outputs": [],
   "source": [
    "import tensorflow as tf\n",
    "import matplotlib.pyplot as plt"
   ]
  },
  {
   "cell_type": "code",
   "execution_count": 65,
   "id": "e5136eb0-b101-47a3-a893-708c3d7e96f1",
   "metadata": {},
   "outputs": [
    {
     "data": {
      "image/png": "[encoded data removed]",
      "text/plain": [
       "<Figure size 432x288 with 1 Axes>"
      ]
     },
     "metadata": {
      "needs_background": "light"
     },
     "output_type": "display_data"
    },
    {
     "data": {
      "text/plain": [
       "<keras.callbacks.LearningRateScheduler at 0x25aea1d9f48>"
      ]
     },
     "execution_count": 65,
     "metadata": {},
     "output_type": "execute_result"
    }
   ],
   "source": [
    "def get_lr_callback(plot=False, batch_size=64, epochs=20):\n",
    "    lr_start   = 0.000001\n",
    "    lr_max     = 0.000005 * batch_size  \n",
    "    lr_min     = 0.000001\n",
    "    lr_ramp_ep = 4\n",
    "    lr_sus_ep  = 0\n",
    "    lr_decay   = 0.9\n",
    "   \n",
    "    def lrfn(epoch):\n",
    "        if epoch < lr_ramp_ep:\n",
    "            lr = (lr_max - lr_start) / lr_ramp_ep * epoch + lr_start\n",
    "        elif epoch < lr_ramp_ep + lr_sus_ep:\n",
    "            lr = lr_max\n",
    "        else:\n",
    "            lr = (lr_max - lr_min) * lr_decay**(epoch - lr_ramp_ep - lr_sus_ep) + lr_min\n",
    "        return lr\n",
    "    if(plot):\n",
    "        epochs = list(range(epochs))\n",
    "        learning_rates = [lrfn(x) for x in epochs]\n",
    "        plt.scatter(epochs,learning_rates)\n",
    "        ax = plt.gca()\n",
    "        ax.get_yaxis().get_major_formatter().set_scientific(False)\n",
    "        plt.show()\n",
    "\n",
    "    lr_callback = tf.keras.callbacks.LearningRateScheduler(lrfn, verbose=False)\n",
    "    return lr_callback\n",
    "\n",
    "get_lr_callback(plot=True)"
   ]
  },
  {
   "cell_type": "code",
   "execution_count": 66,
   "id": "49e801df-fee6-4cad-baef-1accd1bc63cf",
   "metadata": {},
   "outputs": [],
   "source": [
    "def pairwise_distance(embeddings, squared=False):\n",
    "    dot = tf.matmul(embeddings, tf.transpose(embeddings))\n",
    "    square_norm = tf.linalg.diag_part(dot)\n",
    "    distances = tf.expand_dims(square_norm, 1) - 2.0 * dot + tf.expand_dims(square_norm, 0)\n",
    "    distances = tf.maximum(distances, 0.0)\n",
    "    if(not squared):\n",
    "        mask = tf.cast(tf.equal(distances, 0.0), tf.float32)\n",
    "        distances = distances + mask * 1e-16\n",
    "        distances = tf.sqrt(distances)\n",
    "        distances = distances * (1.0 - mask)\n",
    "    return distances"
   ]
  },
  {
   "cell_type": "code",
   "execution_count": 67,
   "id": "17c792fb-037e-40c3-aeee-15d6fcaf5cec",
   "metadata": {},
   "outputs": [],
   "source": [
    "def pairwise_distance_2(embeddings, squared=False):\n",
    "    reduced_squared = tf.math.reduce_sum(tf.math.square(embeddings), axis=[1], keepdims=True)\n",
    "    squared_transpose = tf.math.square(tf.transpose(embeddings))\n",
    "    reduced_transpose = tf.math.reduce_sum(squared_transpose, axis=[0], keepdims=True)\n",
    "    distances_squared = tf.math.add(reduced_squared, reduced_transpose) - 2.0 * tf.matmul(embeddings, tf.transpose(embeddings))\n",
    "    distances_squared = tf.maximum(distances_squared, 0.0)\n",
    "    mask = tf.cast(tf.math.less_equal(distances_squared, 0.0), tf.float32)\n",
    "    if(squared):\n",
    "        distances = distances_squared\n",
    "    else:\n",
    "        distances = tf.math.sqrt(distances_squared + mask * 1e-16)\n",
    "    distances = tf.math.multiply(distances, 1.0 - mask)\n",
    "    mask_offdiag = tf.ones_like(distances) - tf.linalg.diag(tf.ones([tf.shape(embeddings)[0]]))\n",
    "    distances = tf.math.multiply(distances, mask_offdiag)\n",
    "    return distances"
   ]
  },
  {
   "cell_type": "code",
   "execution_count": 68,
   "id": "0dbc90f8-43e1-42d3-9da6-e2726eca3012",
   "metadata": {},
   "outputs": [],
   "source": [
    "def pairwise_distance_3(feature, squared=False):\n",
    "    \"\"\"Computes the pairwise distance matrix with numerical stability.\n",
    "    output[i, j] = || feature[i, :] - feature[j, :] ||_2\n",
    "    Args:\n",
    "      feature: 2-D Tensor of size `[number of data, feature dimension]`.\n",
    "      squared: Boolean, whether or not to square the pairwise distances.\n",
    "    Returns:\n",
    "      pairwise_distances: 2-D Tensor of size `[number of data, number of data]`.\n",
    "    \"\"\"\n",
    "    pairwise_distances_squared = (\n",
    "        tf.math.add(\n",
    "            tf.math.reduce_sum(tf.math.square(feature), axis=[1], keepdims=True),\n",
    "            tf.math.reduce_sum(\n",
    "                tf.math.square(tf.transpose(feature)), axis=[0], keepdims=True\n",
    "            ),\n",
    "        )\n",
    "        - 2.0 * tf.matmul(feature, tf.transpose(feature))\n",
    "    )\n",
    "\n",
    "    # Deal with numerical inaccuracies. Set small negatives to zero.\n",
    "    pairwise_distances_squared = tf.math.maximum(pairwise_distances_squared, 0.0)\n",
    "    # Get the mask where the zero distances are at.\n",
    "    error_mask = tf.math.less_equal(pairwise_distances_squared, 0.0)\n",
    "\n",
    "    # Optionally take the sqrt.\n",
    "    if squared:\n",
    "        pairwise_distances = pairwise_distances_squared\n",
    "    else:\n",
    "        pairwise_distances = tf.math.sqrt(\n",
    "            pairwise_distances_squared\n",
    "            + tf.cast(error_mask, dtype=tf.dtypes.float32) * 1e-16\n",
    "        )\n",
    "\n",
    "    # Undo conditionally adding 1e-16.\n",
    "    pairwise_distances = tf.math.multiply(\n",
    "        pairwise_distances,\n",
    "        tf.cast(tf.math.logical_not(error_mask), dtype=tf.dtypes.float32),\n",
    "    )\n",
    "\n",
    "    num_data = tf.shape(feature)[0]\n",
    "    # Explicitly set diagonals to zero.\n",
    "    mask_offdiagonals = tf.ones_like(pairwise_distances) - tf.linalg.diag(\n",
    "        tf.ones([num_data])\n",
    "    )\n",
    "    pairwise_distances = tf.math.multiply(pairwise_distances, mask_offdiagonals)\n",
    "    return pairwise_distances\n"
   ]
  },
  {
   "cell_type": "code",
   "execution_count": 69,
   "id": "1836b7af-825c-4d80-96ea-3acc04ef6b38",
   "metadata": {},
   "outputs": [],
   "source": [
    "def angular_distances(embeddings):\n",
    "    embeddings = tf.math.l2_normalize(embeddings, axis=-1)\n",
    "    angular_distances = 1 - tf.matmul(embeddings, tf.transpose(embeddings))\n",
    "    angular_distances = tf.maximum(angular_distances, 0.0)\n",
    "    mask_offdiag = tf.ones_like(angular_distances) - tf.linalg.diag(tf.ones([tf.shape(angular_distances)[0]]))\n",
    "    angular_distances = tf.math.multiply(angular_distances, mask_offdiag)\n",
    "    return angular_distances"
   ]
  },
  {
   "cell_type": "code",
   "execution_count": 78,
   "id": "670257ba-91ef-404b-a660-0f1184d501b4",
   "metadata": {},
   "outputs": [
    {
     "name": "stdout",
     "output_type": "stream",
     "text": [
      "[0.8944272 0.4472136]\n",
      "[0.9701424 0.2425356]\n",
      "[-0.98058057  0.19611612]\n",
      "[-0.91192156  0.4103647 ]\n"
     ]
    },
    {
     "data": {
      "text/plain": [
       "<matplotlib.legend.Legend at 0x25aea29e688>"
      ]
     },
     "execution_count": 78,
     "metadata": {},
     "output_type": "execute_result"
    },
    {
     "data": {
      "image/png": "[encoded data removed]",
      "text/plain": [
       "<Figure size 432x288 with 1 Axes>"
      ]
     },
     "metadata": {
      "needs_background": "light"
     },
     "output_type": "display_data"
    }
   ],
   "source": [
    "v1 = tf.math.l2_normalize(tf.constant([[2.0, 1.0],\n",
    "                                      [2.0, 0.5],\n",
    "                                      [-1.0, 0.2],\n",
    "                                      [-2.0, 0.9]]), axis=-1)\n",
    "v2 = tf.constant([[0],[0],[1],[1]])\n",
    "\n",
    "labels = []\n",
    "for i, vect in enumerate(v1):\n",
    "    print(vect.numpy())\n",
    "    labels.append(f'vector{i}')\n",
    "    v = vect.numpy()\n",
    "    plt.plot([0,v[0]], [0,v[1]])\n",
    "plt.legend(labels)"
   ]
  },
  {
   "cell_type": "code",
   "execution_count": 79,
   "id": "168c33c5-26fb-460f-8688-041aee8b340f",
   "metadata": {},
   "outputs": [
    {
     "data": {
      "text/plain": [
       "<tf.Tensor: shape=(4, 4), dtype=float32, numpy=\n",
       "array([[0.        , 0.21823359, 1.891746  , 1.8067244 ],\n",
       "       [0.21823359, 0.        , 1.9512752 , 1.8895323 ],\n",
       "       [1.891746  , 1.9512752 , 0.        , 0.2249811 ],\n",
       "       [1.8067244 , 1.8895322 , 0.2249811 , 0.        ]], dtype=float32)>"
      ]
     },
     "execution_count": 79,
     "metadata": {},
     "output_type": "execute_result"
    }
   ],
   "source": [
    "pairwise_distance(v1)"
   ]
  },
  {
   "cell_type": "code",
   "execution_count": 80,
   "id": "a0b9a8fe-43a0-46c9-9b5d-9fb83d4b6412",
   "metadata": {},
   "outputs": [
    {
     "data": {
      "text/plain": [
       "<tf.Tensor: shape=(4, 4), dtype=float32, numpy=\n",
       "array([[0.        , 0.21823359, 1.891746  , 1.8067244 ],\n",
       "       [0.21823359, 0.        , 1.9512752 , 1.8895323 ],\n",
       "       [1.891746  , 1.9512752 , 0.        , 0.2249811 ],\n",
       "       [1.8067244 , 1.8895323 , 0.2249811 , 0.        ]], dtype=float32)>"
      ]
     },
     "execution_count": 80,
     "metadata": {},
     "output_type": "execute_result"
    }
   ],
   "source": [
    "pairwise_distance_2(v1)"
   ]
  },
  {
   "cell_type": "code",
   "execution_count": 81,
   "id": "e53a1b50-966b-4177-8ee6-a1659b3ddac7",
   "metadata": {},
   "outputs": [
    {
     "data": {
      "text/plain": [
       "<tf.Tensor: shape=(4, 4), dtype=float32, numpy=\n",
       "array([[0.        , 0.21823359, 1.891746  , 1.8067244 ],\n",
       "       [0.21823359, 0.        , 1.9512752 , 1.8895323 ],\n",
       "       [1.891746  , 1.9512752 , 0.        , 0.2249811 ],\n",
       "       [1.8067244 , 1.8895323 , 0.2249811 , 0.        ]], dtype=float32)>"
      ]
     },
     "execution_count": 81,
     "metadata": {},
     "output_type": "execute_result"
    }
   ],
   "source": [
    "pairwise_distance_3(v1)"
   ]
  },
  {
   "cell_type": "code",
   "execution_count": 82,
   "id": "05d63add-6eff-4ed0-b791-2882cc0477c4",
   "metadata": {},
   "outputs": [
    {
     "data": {
      "text/plain": [
       "<tf.Tensor: shape=(4, 4), dtype=float32, numpy=\n",
       "array([[0.        , 0.02381289, 1.7893522 , 1.6321266 ],\n",
       "       [0.02381289, 0.        , 1.9037379 , 1.7851657 ],\n",
       "       [1.7893522 , 1.9037379 , 0.        , 0.02530837],\n",
       "       [1.6321266 , 1.7851657 , 0.02530837, 0.        ]], dtype=float32)>"
      ]
     },
     "execution_count": 82,
     "metadata": {},
     "output_type": "execute_result"
    }
   ],
   "source": [
    "angular_distances(v1)"
   ]
  },
  {
   "cell_type": "code",
   "execution_count": 96,
   "id": "ac2ce53b-cfdb-444d-b280-f0606403f610",
   "metadata": {},
   "outputs": [],
   "source": [
    "def apply_metric(embeddings, labels, metric):\n",
    "    adj = tf.equal(labels, tf.transpose(labels))\n",
    "    adj_not = tf.math.logical_not(adj)\n",
    "    adj = tf.cast(adj, tf.float32) - tf.linalg.diag(tf.ones([tf.shape(labels)[0]]))\n",
    "    adj_not = tf.cast(adj_not, tf.float32)\n",
    "    distances = metric(embeddings)\n",
    "    pos_dist = tf.math.multiply(distances, adj)\n",
    "    print(pos_dist)\n",
    "    neg_dist = tf.math.multiply(distances, adj_not)\n",
    "    print(neg_dist)\n",
    "    pos_dist_mean = tf.reduce_mean(tf.ragged.boolean_mask(pos_dist, mask=tf.math.equal(adj, 1.0)))\n",
    "    neg_dist_mean = tf.reduce_mean(tf.ragged.boolean_mask(neg_dist, mask=tf.math.equal(adj_not, 1.0)))\n",
    "    print(pos_dist_mean)\n",
    "    print(neg_dist_mean)"
   ]
  },
  {
   "cell_type": "code",
   "execution_count": 97,
   "id": "79d23c53-6ce8-42ae-983b-43ebbe4cf4fa",
   "metadata": {},
   "outputs": [
    {
     "name": "stdout",
     "output_type": "stream",
     "text": [
      "tf.Tensor(\n",
      "[[0.         0.02381289 0.         0.        ]\n",
      " [0.02381289 0.         0.         0.        ]\n",
      " [0.         0.         0.         0.02530837]\n",
      " [0.         0.         0.02530837 0.        ]], shape=(4, 4), dtype=float32)\n",
      "tf.Tensor(\n",
      "[[0.        0.        1.7893522 1.6321266]\n",
      " [0.        0.        1.9037379 1.7851657]\n",
      " [1.7893522 1.9037379 0.        0.       ]\n",
      " [1.6321266 1.7851657 0.        0.       ]], shape=(4, 4), dtype=float32)\n",
      "tf.Tensor(0.02456063, shape=(), dtype=float32)\n",
      "tf.Tensor(1.7775955, shape=(), dtype=float32)\n"
     ]
    }
   ],
   "source": [
    "apply_metric(v1, v2, angular_distances)"
   ]
  },
  {
   "cell_type": "code",
   "execution_count": null,
   "id": "1d2ec854-a2ef-486d-8c02-ac43a86259b0",
   "metadata": {},
   "outputs": [],
   "source": []
  }
 ],
 "metadata": {
  "kernelspec": {
   "display_name": "Python 3 (ipykernel)",
   "language": "python",
   "name": "python3"
  },
  "language_info": {
   "codemirror_mode": {
    "name": "ipython",
    "version": 3
   },
   "file_extension": ".py",
   "mimetype": "text/x-python",
   "name": "python",
   "nbconvert_exporter": "python",
   "pygments_lexer": "ipython3",
   "version": "3.8.13"
  }
 },
 "nbformat": 4,
 "nbformat_minor": 5
}
