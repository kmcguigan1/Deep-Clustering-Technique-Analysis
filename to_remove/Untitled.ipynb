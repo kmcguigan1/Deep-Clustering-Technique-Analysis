{
 "cells": [
  {
   "cell_type": "code",
   "execution_count": 88,
   "id": "fdd9e74b",
   "metadata": {},
   "outputs": [],
   "source": [
    "import numpy as np\n",
    "\n",
    "embeddings = {\n",
    "    'NULL': [0, 0, 0, 0],\n",
    "    '0':    [1, 0, 0, 0],\n",
    "    '1':    [0, 1, 0, 0],\n",
    "    '2':    [0, 0, 1, 0],\n",
    "    '3':    [0, 0, 0, 1],\n",
    "}"
   ]
  },
  {
   "cell_type": "code",
   "execution_count": 89,
   "id": "ea629c92",
   "metadata": {},
   "outputs": [],
   "source": [
    "def get_token(embedding):\n",
    "    keys = [k for k in embeddings.keys()]\n",
    "    distances = [np.linalg.norm(embedding - embeddings[k]) for k in keys]\n",
    "    return keys[np.argmin(distances)]"
   ]
  },
  {
   "cell_type": "code",
   "execution_count": 182,
   "id": "ac12b6fa",
   "metadata": {},
   "outputs": [
    {
     "name": "stdout",
     "output_type": "stream",
     "text": [
      "(5, 4)\n"
     ]
    },
    {
     "data": {
      "text/plain": [
       "array([[1, 0, 0, 0],\n",
       "       [1, 0, 0, 0],\n",
       "       [0, 1, 0, 0],\n",
       "       [0, 0, 0, 1],\n",
       "       [0, 0, 0, 1]])"
      ]
     },
     "execution_count": 182,
     "metadata": {},
     "output_type": "execute_result"
    }
   ],
   "source": [
    "input_tokens = ['0', '0', '1', '3', '3']\n",
    "input_embeddings = np.stack([embeddings[token] for token in input_tokens])\n",
    "print(input_embeddings.shape)\n",
    "input_embeddings"
   ]
  },
  {
   "cell_type": "code",
   "execution_count": 247,
   "id": "551b11b8",
   "metadata": {},
   "outputs": [],
   "source": [
    "Wq = [[1, 0, 0, 0, 0,],\n",
    "      [0, 0, 0, 0, 0,],\n",
    "      [0, 0, 0, 0, 0,],\n",
    "      [0, 0, 0, 0, 0,],]\n",
    "\n",
    "Wk = [[0, 0, 0, 0, 0,],\n",
    "      [0, 0, 0, 0, 0,],\n",
    "      [0, 0, 0, 0, 0,],\n",
    "      [0, 0, 0, 0, 0,],]\n",
    "\n",
    "Wv = [[0, 0, 0, 0,],\n",
    "      [0, 0, 0, 0,],\n",
    "      [0, 0, 0, 0,],\n",
    "      [0, 0, 0, 0,],]"
   ]
  },
  {
   "cell_type": "code",
   "execution_count": 248,
   "id": "c5517238",
   "metadata": {},
   "outputs": [
    {
     "name": "stdout",
     "output_type": "stream",
     "text": [
      "(5, 5)\n"
     ]
    },
    {
     "data": {
      "text/plain": [
       "array([[1, 0, 0, 0, 0],\n",
       "       [1, 0, 0, 0, 0],\n",
       "       [0, 0, 0, 0, 0],\n",
       "       [0, 0, 0, 0, 0],\n",
       "       [0, 0, 0, 0, 0]])"
      ]
     },
     "execution_count": 248,
     "metadata": {},
     "output_type": "execute_result"
    }
   ],
   "source": [
    "queries = np.matmul(input_embeddings, Wq)\n",
    "print(queries.shape)\n",
    "queries"
   ]
  },
  {
   "cell_type": "code",
   "execution_count": 249,
   "id": "cbb0616c",
   "metadata": {},
   "outputs": [
    {
     "name": "stdout",
     "output_type": "stream",
     "text": [
      "(5, 5)\n"
     ]
    },
    {
     "data": {
      "text/plain": [
       "array([[0, 0, 0, 0, 0],\n",
       "       [0, 0, 0, 0, 0],\n",
       "       [0, 0, 0, 0, 0],\n",
       "       [0, 0, 0, 0, 0],\n",
       "       [0, 0, 0, 0, 0]])"
      ]
     },
     "execution_count": 249,
     "metadata": {},
     "output_type": "execute_result"
    }
   ],
   "source": [
    "keys = np.matmul(input_embeddings, Wk)\n",
    "print(keys.T.shape)\n",
    "keys.T"
   ]
  },
  {
   "cell_type": "code",
   "execution_count": 250,
   "id": "f7273bad",
   "metadata": {},
   "outputs": [
    {
     "name": "stdout",
     "output_type": "stream",
     "text": [
      "(5, 4)\n"
     ]
    },
    {
     "data": {
      "text/plain": [
       "array([[0, 0, 0, 0],\n",
       "       [0, 0, 0, 0],\n",
       "       [0, 0, 0, 0],\n",
       "       [0, 0, 0, 0],\n",
       "       [0, 0, 0, 0]])"
      ]
     },
     "execution_count": 250,
     "metadata": {},
     "output_type": "execute_result"
    }
   ],
   "source": [
    "values = np.matmul(input_embeddings, Wv)\n",
    "print(values.shape)\n",
    "values"
   ]
  },
  {
   "cell_type": "code",
   "execution_count": 251,
   "id": "7e797c1e",
   "metadata": {},
   "outputs": [
    {
     "name": "stdout",
     "output_type": "stream",
     "text": [
      "(5, 5)\n"
     ]
    },
    {
     "data": {
      "text/plain": [
       "array([[0, 0, 0, 0, 0],\n",
       "       [0, 0, 0, 0, 0],\n",
       "       [0, 0, 0, 0, 0],\n",
       "       [0, 0, 0, 0, 0],\n",
       "       [0, 0, 0, 0, 0]])"
      ]
     },
     "execution_count": 251,
     "metadata": {},
     "output_type": "execute_result"
    }
   ],
   "source": [
    "attention = np.matmul(queries, keys.T)\n",
    "print(attention.shape)\n",
    "attention"
   ]
  },
  {
   "cell_type": "code",
   "execution_count": 252,
   "id": "d35b248f",
   "metadata": {},
   "outputs": [
    {
     "name": "stdout",
     "output_type": "stream",
     "text": [
      "(5, 5)\n"
     ]
    },
    {
     "data": {
      "text/plain": [
       "array([[0.2, 0.2, 0.2, 0.2, 0.2],\n",
       "       [0.2, 0.2, 0.2, 0.2, 0.2],\n",
       "       [0.2, 0.2, 0.2, 0.2, 0.2],\n",
       "       [0.2, 0.2, 0.2, 0.2, 0.2],\n",
       "       [0.2, 0.2, 0.2, 0.2, 0.2]])"
      ]
     },
     "execution_count": 252,
     "metadata": {},
     "output_type": "execute_result"
    }
   ],
   "source": [
    "def softmax(x):\n",
    "    \"\"\"Compute softmax values for each sets of scores in x.\"\"\"\n",
    "    e_x = np.exp(x - np.max(x))\n",
    "    return e_x / e_x.sum(axis=0) # only difference\n",
    "\n",
    "scaled_attention = np.array([softmax(att) for att in attention])\n",
    "print(scaled_attention.shape)\n",
    "scaled_attention"
   ]
  },
  {
   "cell_type": "code",
   "execution_count": 255,
   "id": "f31ad2d8",
   "metadata": {},
   "outputs": [
    {
     "name": "stdout",
     "output_type": "stream",
     "text": [
      "(5, 4)\n"
     ]
    },
    {
     "data": {
      "text/plain": [
       "array([[0., 0., 0., 0.],\n",
       "       [0., 0., 0., 0.],\n",
       "       [0., 0., 0., 0.],\n",
       "       [0., 0., 0., 0.],\n",
       "       [0., 0., 0., 0.]])"
      ]
     },
     "execution_count": 255,
     "metadata": {},
     "output_type": "execute_result"
    }
   ],
   "source": [
    "attention_values = np.matmul(scaled_attention, values)\n",
    "print(attention_values.shape)\n",
    "attention_values"
   ]
  },
  {
   "cell_type": "code",
   "execution_count": 256,
   "id": "1da43669",
   "metadata": {},
   "outputs": [
    {
     "name": "stdout",
     "output_type": "stream",
     "text": [
      "(5,)\n"
     ]
    },
    {
     "data": {
      "text/plain": [
       "array(['NULL', 'NULL', 'NULL', 'NULL', 'NULL'], dtype='<U4')"
      ]
     },
     "execution_count": 256,
     "metadata": {},
     "output_type": "execute_result"
    }
   ],
   "source": [
    "outputs = np.array([get_token(embedding) for embedding in attention_values])\n",
    "print(outputs.shape)\n",
    "outputs"
   ]
  },
  {
   "cell_type": "code",
   "execution_count": null,
   "id": "1ff91aff",
   "metadata": {},
   "outputs": [],
   "source": []
  },
  {
   "cell_type": "code",
   "execution_count": null,
   "id": "931126bb",
   "metadata": {},
   "outputs": [],
   "source": []
  },
  {
   "cell_type": "code",
   "execution_count": null,
   "id": "f53f66c0",
   "metadata": {},
   "outputs": [],
   "source": []
  }
 ],
 "metadata": {
  "kernelspec": {
   "display_name": "Python 3 (ipykernel)",
   "language": "python",
   "name": "python3"
  },
  "language_info": {
   "codemirror_mode": {
    "name": "ipython",
    "version": 3
   },
   "file_extension": ".py",
   "mimetype": "text/x-python",
   "name": "python",
   "nbconvert_exporter": "python",
   "pygments_lexer": "ipython3",
   "version": "3.8.13"
  }
 },
 "nbformat": 4,
 "nbformat_minor": 5
}
