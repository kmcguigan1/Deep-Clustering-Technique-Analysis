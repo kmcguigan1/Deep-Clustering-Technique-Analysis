{
 "cells": [
  {
   "cell_type": "code",
   "execution_count": 1,
   "id": "fb3932cf",
   "metadata": {},
   "outputs": [],
   "source": [
    "import pymc as pm\n",
    "from scipy import stats, optimize\n",
    "import pandas as pd\n",
    "import numpy as np\n",
    "import matplotlib.pyplot as plt\n",
    "import seaborn as sns"
   ]
  },
  {
   "cell_type": "code",
   "execution_count": 2,
   "id": "60501043",
   "metadata": {},
   "outputs": [
    {
     "data": {
      "text/plain": [
       "[array([0.95365031, 0.85029781, 0.81658076, 0.89917944, 0.97359409]),\n",
       " array([0.66254269, 0.83498257, 0.17640053, 0.2040686 , 0.53963025,\n",
       "        0.56229829, 0.30094611, 0.35764109, 0.56655823, 0.6557655 ,\n",
       "        0.56225169, 0.45198602, 0.47953829, 0.96759831, 0.45723895,\n",
       "        0.44990676, 0.59351616, 0.38192819, 0.54552641, 0.29135157]),\n",
       " array([0.97655855, 0.98788624, 0.99375181, 0.63963936, 0.99997697,\n",
       "        0.63357867, 0.59523406, 0.7161449 , 0.74003995, 0.96513338,\n",
       "        0.7830355 , 0.99723442, 0.92078969, 0.77956119, 0.99215375,\n",
       "        0.75524377, 0.27451075, 0.69827565, 0.95883063, 0.87567068,\n",
       "        0.34627744, 0.9805346 , 0.87489206, 0.80403474, 0.99904852,\n",
       "        0.98359068, 0.96186854, 0.98189893, 0.98591117, 0.91988753])]"
      ]
     },
     "execution_count": 2,
     "metadata": {},
     "output_type": "execute_result"
    }
   ],
   "source": [
    "N = [5, 20, 30]\n",
    "MAX_ORDERS = [100, 80, 100]\n",
    "PRICES = [16, 10, 12]\n",
    "\n",
    "EFF_MU = [0.9, 0.5, 0.8]\n",
    "EFF_SD = [0.1, 0.2, 0.2]\n",
    "np.random.seed(100)\n",
    "data = [pm.draw(pm.Beta.dist(mu=mu, sigma=sd, shape=n)) for mu, sd, n in zip(EFF_MU, EFF_SD, N)]\n",
    "data"
   ]
  },
  {
   "cell_type": "code",
   "execution_count": 3,
   "id": "5b02c6a3",
   "metadata": {},
   "outputs": [
    {
     "data": {
      "text/plain": [
       "array([    0,   -30,   -60,   -90,  -120,  -150,  -180,  -210,  -240,\n",
       "        -270,  -300,  -330,  -360,  -390,  -420,  -450,  -480,  -510,\n",
       "        -540,  -570,  -600,  -630,  -660,  -690,  -720,  -750,  -780,\n",
       "        -810,  -840,  -870,  -900,  -930,  -960,  -990, -1020, -1050,\n",
       "       -1080, -1110, -1140, -1170, -1200, -1230, -1260, -1290, -1320,\n",
       "       -1350, -1380, -1410, -1440, -1470])"
      ]
     },
     "execution_count": 3,
     "metadata": {},
     "output_type": "execute_result"
    }
   ],
   "source": [
    "SELL_PRICE = 40\n",
    "HOLDING_COST = 10\n",
    "BUY_PRICE = 10\n",
    "MORE_STOCK = 70\n",
    "LESS_STOCK = 30\n",
    "DEMAND = 50\n",
    "@np.vectorize\n",
    "def loss(in_stock, demand, buy_price=BUY_PRICE, sales_price=SELL_PRICE, holding_cost=HOLDING_COST):\n",
    "    margin = sales_price - buy_price\n",
    "    if in_stock > demand:\n",
    "        total_profit = demand * margin\n",
    "        total_holding_cost = (in_stock - demand) * holding_cost\n",
    "        reward = total_profit - total_holding_cost\n",
    "    else:\n",
    "        reward = in_stock * margin\n",
    "    return -reward\n",
    "\n",
    "a = np.arange(50)\n",
    "b = np.arange(50)\n",
    "y = loss(a, b)\n",
    "y"
   ]
  },
  {
   "cell_type": "code",
   "execution_count": 4,
   "id": "2e7530d2",
   "metadata": {},
   "outputs": [],
   "source": [
    "demand_sampled = stats.poisson(60, 40).rvs(1000)"
   ]
  },
  {
   "cell_type": "code",
   "execution_count": 10,
   "id": "63940fe9",
   "metadata": {},
   "outputs": [
    {
     "name": "stderr",
     "output_type": "stream",
     "text": [
      "Auto-assigning NUTS sampler...\n",
      "Initializing NUTS using jitter+adapt_diag...\n",
      "Multiprocess sampling (4 chains in 4 jobs)\n",
      "NUTS: [alpha, beta]\n"
     ]
    },
    {
     "data": {
      "text/html": [
       "\n",
       "<style>\n",
       "    /* Turns off some styling */\n",
       "    progress {\n",
       "        /* gets rid of default border in Firefox and Opera. */\n",
       "        border: none;\n",
       "        /* Needs to be in here for Safari polyfill so background images work as expected. */\n",
       "        background-size: auto;\n",
       "    }\n",
       "    progress:not([value]), progress:not([value])::-webkit-progress-bar {\n",
       "        background: repeating-linear-gradient(45deg, #7e7e7e, #7e7e7e 10px, #5c5c5c 10px, #5c5c5c 20px);\n",
       "    }\n",
       "    .progress-bar-interrupted, .progress-bar-interrupted::-webkit-progress-bar {\n",
       "        background: #F44336;\n",
       "    }\n",
       "</style>\n"
      ],
      "text/plain": [
       "<IPython.core.display.HTML object>"
      ]
     },
     "metadata": {},
     "output_type": "display_data"
    },
    {
     "data": {
      "text/html": [
       "\n",
       "    <div>\n",
       "      <progress value='8000' class='' max='8000' style='width:300px; height:20px; vertical-align: middle;'></progress>\n",
       "      100.00% [8000/8000 00:01&lt;00:00 Sampling 4 chains, 0 divergences]\n",
       "    </div>\n",
       "    "
      ],
      "text/plain": [
       "<IPython.core.display.HTML object>"
      ]
     },
     "metadata": {},
     "output_type": "display_data"
    },
    {
     "name": "stderr",
     "output_type": "stream",
     "text": [
      "Sampling 4 chains for 1_000 tune and 1_000 draw iterations (4_000 + 4_000 draws total) took 2 seconds.\n",
      "Sampling: [Supplier #1, Supplier #2, Supplier #3]\n"
     ]
    },
    {
     "data": {
      "text/html": [
       "\n",
       "<style>\n",
       "    /* Turns off some styling */\n",
       "    progress {\n",
       "        /* gets rid of default border in Firefox and Opera. */\n",
       "        border: none;\n",
       "        /* Needs to be in here for Safari polyfill so background images work as expected. */\n",
       "        background-size: auto;\n",
       "    }\n",
       "    progress:not([value]), progress:not([value])::-webkit-progress-bar {\n",
       "        background: repeating-linear-gradient(45deg, #7e7e7e, #7e7e7e 10px, #5c5c5c 10px, #5c5c5c 20px);\n",
       "    }\n",
       "    .progress-bar-interrupted, .progress-bar-interrupted::-webkit-progress-bar {\n",
       "        background: #F44336;\n",
       "    }\n",
       "</style>\n"
      ],
      "text/plain": [
       "<IPython.core.display.HTML object>"
      ]
     },
     "metadata": {},
     "output_type": "display_data"
    },
    {
     "data": {
      "text/html": [
       "\n",
       "    <div>\n",
       "      <progress value='4000' class='' max='4000' style='width:300px; height:20px; vertical-align: middle;'></progress>\n",
       "      100.00% [4000/4000 00:00&lt;00:00]\n",
       "    </div>\n",
       "    "
      ],
      "text/plain": [
       "<IPython.core.display.HTML object>"
      ]
     },
     "metadata": {},
     "output_type": "display_data"
    },
    {
     "data": {
      "text/html": [
       "<div>\n",
       "<style scoped>\n",
       "    .dataframe tbody tr th:only-of-type {\n",
       "        vertical-align: middle;\n",
       "    }\n",
       "\n",
       "    .dataframe tbody tr th {\n",
       "        vertical-align: top;\n",
       "    }\n",
       "\n",
       "    .dataframe thead th {\n",
       "        text-align: right;\n",
       "    }\n",
       "</style>\n",
       "<table border=\"1\" class=\"dataframe\">\n",
       "  <thead>\n",
       "    <tr style=\"text-align: right;\">\n",
       "      <th></th>\n",
       "      <th>mean</th>\n",
       "      <th>sd</th>\n",
       "      <th>hdi_3%</th>\n",
       "      <th>hdi_97%</th>\n",
       "      <th>mcse_mean</th>\n",
       "      <th>mcse_sd</th>\n",
       "      <th>ess_bulk</th>\n",
       "      <th>ess_tail</th>\n",
       "      <th>r_hat</th>\n",
       "    </tr>\n",
       "  </thead>\n",
       "  <tbody>\n",
       "    <tr>\n",
       "      <th>alpha[0]</th>\n",
       "      <td>13.752</td>\n",
       "      <td>5.347</td>\n",
       "      <td>4.308</td>\n",
       "      <td>23.902</td>\n",
       "      <td>0.115</td>\n",
       "      <td>0.081</td>\n",
       "      <td>1983.0</td>\n",
       "      <td>1922.0</td>\n",
       "      <td>1.00</td>\n",
       "    </tr>\n",
       "    <tr>\n",
       "      <th>alpha[1]</th>\n",
       "      <td>1.877</td>\n",
       "      <td>0.799</td>\n",
       "      <td>0.440</td>\n",
       "      <td>3.362</td>\n",
       "      <td>0.018</td>\n",
       "      <td>0.013</td>\n",
       "      <td>1808.0</td>\n",
       "      <td>1807.0</td>\n",
       "      <td>1.00</td>\n",
       "    </tr>\n",
       "    <tr>\n",
       "      <th>alpha[2]</th>\n",
       "      <td>3.974</td>\n",
       "      <td>0.892</td>\n",
       "      <td>2.312</td>\n",
       "      <td>5.666</td>\n",
       "      <td>0.018</td>\n",
       "      <td>0.013</td>\n",
       "      <td>2433.0</td>\n",
       "      <td>2097.0</td>\n",
       "      <td>1.00</td>\n",
       "    </tr>\n",
       "    <tr>\n",
       "      <th>beta[0]</th>\n",
       "      <td>0.926</td>\n",
       "      <td>0.658</td>\n",
       "      <td>0.005</td>\n",
       "      <td>2.083</td>\n",
       "      <td>0.014</td>\n",
       "      <td>0.010</td>\n",
       "      <td>1755.0</td>\n",
       "      <td>1433.0</td>\n",
       "      <td>1.00</td>\n",
       "    </tr>\n",
       "    <tr>\n",
       "      <th>beta[1]</th>\n",
       "      <td>1.714</td>\n",
       "      <td>0.754</td>\n",
       "      <td>0.375</td>\n",
       "      <td>3.069</td>\n",
       "      <td>0.017</td>\n",
       "      <td>0.012</td>\n",
       "      <td>1790.0</td>\n",
       "      <td>1974.0</td>\n",
       "      <td>1.00</td>\n",
       "    </tr>\n",
       "    <tr>\n",
       "      <th>beta[2]</th>\n",
       "      <td>0.040</td>\n",
       "      <td>0.038</td>\n",
       "      <td>0.000</td>\n",
       "      <td>0.113</td>\n",
       "      <td>0.001</td>\n",
       "      <td>0.000</td>\n",
       "      <td>2255.0</td>\n",
       "      <td>992.0</td>\n",
       "      <td>1.01</td>\n",
       "    </tr>\n",
       "  </tbody>\n",
       "</table>\n",
       "</div>"
      ],
      "text/plain": [
       "            mean     sd  hdi_3%  hdi_97%  mcse_mean  mcse_sd  ess_bulk  \\\n",
       "alpha[0]  13.752  5.347   4.308   23.902      0.115    0.081    1983.0   \n",
       "alpha[1]   1.877  0.799   0.440    3.362      0.018    0.013    1808.0   \n",
       "alpha[2]   3.974  0.892   2.312    5.666      0.018    0.013    2433.0   \n",
       "beta[0]    0.926  0.658   0.005    2.083      0.014    0.010    1755.0   \n",
       "beta[1]    1.714  0.754   0.375    3.069      0.017    0.012    1790.0   \n",
       "beta[2]    0.040  0.038   0.000    0.113      0.001    0.000    2255.0   \n",
       "\n",
       "          ess_tail  r_hat  \n",
       "alpha[0]    1922.0   1.00  \n",
       "alpha[1]    1807.0   1.00  \n",
       "alpha[2]    2097.0   1.00  \n",
       "beta[0]     1433.0   1.00  \n",
       "beta[1]     1974.0   1.00  \n",
       "beta[2]      992.0   1.01  "
      ]
     },
     "execution_count": 10,
     "metadata": {},
     "output_type": "execute_result"
    }
   ],
   "source": [
    "with pm.Model() as model:\n",
    "    alpha = pm.HalfNormal('alpha', sigma=10., shape=3) + 1\n",
    "    beta = pm.HalfNormal('beta', sigma=10., shape=3) + 1\n",
    "    \n",
    "    for i, d in enumerate(data):\n",
    "        pm.Beta('Supplier #' + str(i+1), alpha=alpha[i], beta=beta[i], observed=d)\n",
    "    \n",
    "    trace = pm.sample()\n",
    "    pred = pm.sample_posterior_predictive(trace)\n",
    "    \n",
    "pm.summary(trace)"
   ]
  },
  {
   "cell_type": "code",
   "execution_count": 13,
   "id": "ba685788",
   "metadata": {},
   "outputs": [
    {
     "data": {
      "text/plain": [
       "(1000, 3)"
      ]
     },
     "execution_count": 13,
     "metadata": {},
     "output_type": "execute_result"
    }
   ],
   "source": [
    "efficacy_scores = []\n",
    "for supplier in ['Supplier #1','Supplier #2','Supplier #3']:\n",
    "    samples = pred.posterior_predictive[supplier].values.flatten()\n",
    "    efficacy_scores.append(np.random.choice(samples, size=1000, replace=False))\n",
    "efficacy_scores = np.stack(efficacy_scores).T\n",
    "efficacy_scores.shape"
   ]
  },
  {
   "cell_type": "code",
   "execution_count": 15,
   "id": "fc0d3007",
   "metadata": {
    "scrolled": false
   },
   "outputs": [
    {
     "name": "stdout",
     "output_type": "stream",
     "text": [
      "Number of orders per supplier [ 0. 65. 92.]\n"
     ]
    }
   ],
   "source": [
    "def calc_eff_and_price(orders, eff=np.array([.9, .5, .8]), prices=PRICES):\n",
    "    orders = np.array(orders)\n",
    "    full_eff = np.sum(eff * orders)\n",
    "    unit_price = np.sum(orders * prices) / np.sum(orders)\n",
    "    return full_eff, unit_price\n",
    "\n",
    "def objective_func(orders, efficacy_scores=efficacy_scores, demand_sampled=demand_sampled, max_orders=MAX_ORDERS):\n",
    "    orders = np.array(orders)\n",
    "    losses = []\n",
    "    for i in range(efficacy_scores.shape[0]):\n",
    "        eff = efficacy_scores[i,:]\n",
    "        eff, unit_price = calc_eff_and_price(orders, eff=eff)\n",
    "        loss_i = loss(eff, demand_sampled[i], unit_price)\n",
    "        losses.append(loss_i)\n",
    "    return np.array(losses)\n",
    "\n",
    "bounds = [(0, max_order) for max_order in MAX_ORDERS]\n",
    "starting_value = [50, 50, 50]\n",
    "opt_bayes = optimize.minimize(lambda *args: np.mean(objective_func(*args)), \n",
    "                              starting_value, \n",
    "                              bounds=bounds)\n",
    "print('Number of orders per supplier', format(np.ceil(opt_bayes.x)))"
   ]
  },
  {
   "cell_type": "code",
   "execution_count": 21,
   "id": "00384ec4",
   "metadata": {},
   "outputs": [
    {
     "name": "stdout",
     "output_type": "stream",
     "text": [
      "Optimal order amount from every supplier = [44. 49. 46.]\n"
     ]
    }
   ],
   "source": [
    "efficacy_mean = np.array([[np.mean(d) for d in data]])\n",
    "bounds = [(0, max_order) for max_order in MAX_ORDERS]\n",
    "starting_value = [50, 50, 50]\n",
    "opt_naive = optimize.minimize(lambda *args: objective_func(*args, efficacy_scores=efficacy_mean), \n",
    "                                  starting_value,\n",
    "                                  bounds=bounds)\n",
    "print('Optimal order amount from every supplier = {}'.format(np.ceil(opt_naive.x)))"
   ]
  },
  {
   "cell_type": "code",
   "execution_count": 31,
   "id": "1d787dcf",
   "metadata": {},
   "outputs": [
    {
     "name": "stdout",
     "output_type": "stream",
     "text": [
      "Profit of Bayesian Model: 25.541053038506217 BTC\n",
      "Profit of Naive Model: 25.067376700088914 BTC\n",
      "Profit uplift: 0.01889612718891412\n"
     ]
    }
   ],
   "source": [
    "np.random.seed(123)\n",
    "data_new = []\n",
    "for mu, sd, n in zip(EFF_MU, EFF_SD, N):\n",
    "    data_new.append(pm.draw(pm.Beta.dist(mu=mu, sigma=sd, shape=1000)))\n",
    "data_new = np.array(data_new).T\n",
    "neg_loss_bayes = -objective_func(opt_bayes.x, efficacy_scores=data_new) / demand_sampled\n",
    "neg_loss_naive = -objective_func(opt_naive.x, efficacy_scores=data_new) / demand_sampled\n",
    "print('Profit of Bayesian Model:', np.mean(neg_loss_bayes), 'BTC')\n",
    "print('Profit of Naive Model:', np.mean(neg_loss_naive), 'BTC')\n",
    "print('Profit uplift:', (np.mean(neg_loss_bayes) - np.mean(neg_loss_naive)) / np.mean(neg_loss_naive))"
   ]
  },
  {
   "cell_type": "code",
   "execution_count": null,
   "id": "a88e3760",
   "metadata": {},
   "outputs": [],
   "source": []
  }
 ],
 "metadata": {
  "kernelspec": {
   "display_name": "Python 3 (ipykernel)",
   "language": "python",
   "name": "python3"
  },
  "language_info": {
   "codemirror_mode": {
    "name": "ipython",
    "version": 3
   },
   "file_extension": ".py",
   "mimetype": "text/x-python",
   "name": "python",
   "nbconvert_exporter": "python",
   "pygments_lexer": "ipython3",
   "version": "3.11.0"
  }
 },
 "nbformat": 4,
 "nbformat_minor": 5
}
