{
 "cells": [
  {
   "cell_type": "code",
   "execution_count": 1,
   "id": "50cbeee9",
   "metadata": {},
   "outputs": [],
   "source": [
    "import math\n",
    "import numpy as np\n",
    "import matplotlib.pyplot as plt"
   ]
  },
  {
   "cell_type": "code",
   "execution_count": 2,
   "id": "3db12a43",
   "metadata": {},
   "outputs": [
    {
     "data": {
      "text/plain": [
       "array([[ 1.1,  0.1],\n",
       "       [-0.2,  1. ]])"
      ]
     },
     "execution_count": 2,
     "metadata": {},
     "output_type": "execute_result"
    }
   ],
   "source": [
    "vectors = np.array([\n",
    "    [1.1,0.1],\n",
    "    [-0.2,1],\n",
    "])\n",
    "vectors"
   ]
  },
  {
   "cell_type": "code",
   "execution_count": 3,
   "id": "4c2162ed",
   "metadata": {},
   "outputs": [
    {
     "data": {
      "text/plain": [
       "array([[1, 0],\n",
       "       [0, 1]])"
      ]
     },
     "execution_count": 3,
     "metadata": {},
     "output_type": "execute_result"
    }
   ],
   "source": [
    "weights = np.array([\n",
    "    [1,0],\n",
    "    [0,1],\n",
    "])\n",
    "weights"
   ]
  },
  {
   "cell_type": "code",
   "execution_count": 4,
   "id": "8f28ff50",
   "metadata": {},
   "outputs": [
    {
     "data": {
      "text/plain": [
       "array([1.1045361, 1.0198039])"
      ]
     },
     "execution_count": 4,
     "metadata": {},
     "output_type": "execute_result"
    }
   ],
   "source": [
    "vector_sizes = np.linalg.norm(vectors, axis=-1)\n",
    "vector_sizes"
   ]
  },
  {
   "cell_type": "code",
   "execution_count": 5,
   "id": "e6af72ab",
   "metadata": {},
   "outputs": [
    {
     "data": {
      "text/plain": [
       "array([[ 0.99589321,  0.09805807],\n",
       "       [-0.18107149,  0.98058068]])"
      ]
     },
     "execution_count": 5,
     "metadata": {},
     "output_type": "execute_result"
    }
   ],
   "source": [
    "norm_vectors = vectors / vector_sizes\n",
    "# norm_vectors = np.expand_dims(norm_vectors, 1)\n",
    "norm_vectors"
   ]
  },
  {
   "cell_type": "code",
   "execution_count": 6,
   "id": "79b06a64",
   "metadata": {},
   "outputs": [
    {
     "data": {
      "text/plain": [
       "array([[0.70710678, 0.        ],\n",
       "       [0.        , 0.70710678]])"
      ]
     },
     "execution_count": 6,
     "metadata": {},
     "output_type": "execute_result"
    }
   ],
   "source": [
    "norm_weights = weights / np.linalg.norm(weights)\n",
    "norm_weights"
   ]
  },
  {
   "cell_type": "code",
   "execution_count": 7,
   "id": "14f9ba0b",
   "metadata": {},
   "outputs": [
    {
     "data": {
      "text/plain": [
       "array([[ 0.70420284,  0.06933752],\n",
       "       [-0.12803688,  0.69337525]])"
      ]
     },
     "execution_count": 7,
     "metadata": {},
     "output_type": "execute_result"
    }
   ],
   "source": [
    "cos = np.matmul(norm_vectors, norm_weights.T)\n",
    "cos"
   ]
  },
  {
   "cell_type": "code",
   "execution_count": 8,
   "id": "941206c3",
   "metadata": {},
   "outputs": [
    {
     "data": {
      "text/plain": [
       "array([[0.78949657, 1.50140312],\n",
       "       [1.69918564, 0.80463368]])"
      ]
     },
     "execution_count": 8,
     "metadata": {},
     "output_type": "execute_result"
    }
   ],
   "source": [
    "theta = np.arccos(cos)\n",
    "theta"
   ]
  },
  {
   "cell_type": "code",
   "execution_count": 26,
   "id": "34fe2751",
   "metadata": {},
   "outputs": [
    {
     "data": {
      "text/plain": [
       "[<matplotlib.lines.Line2D at 0x12c57dc10>]"
      ]
     },
     "execution_count": 26,
     "metadata": {},
     "output_type": "execute_result"
    },
    {
     "data": {
      "image/png": "[encoded data removed]",
      "text/plain": [
       "<Figure size 432x288 with 1 Axes>"
      ]
     },
     "metadata": {
      "needs_background": "light"
     },
     "output_type": "display_data"
    }
   ],
   "source": [
    "def angle_func(theta, m=4):\n",
    "    for k in range(m):\n",
    "        if((k*np.pi)/m <= theta and ((k+1)*np.pi)/m >= theta):\n",
    "            return (-1)**k * np.cos(m * theta) - (2 * k)\n",
    "    raise Exception('')\n",
    "\n",
    "x = np.linspace(start=0, stop=np.pi, num=20)\n",
    "y = np.array([angle_func(z) for z in x])\n",
    "plt.plot(x, y)"
   ]
  },
  {
   "cell_type": "code",
   "execution_count": 21,
   "id": "8506ad16",
   "metadata": {},
   "outputs": [
    {
     "data": {
      "text/plain": [
       "[<matplotlib.lines.Line2D at 0x12c3b1b80>]"
      ]
     },
     "execution_count": 21,
     "metadata": {},
     "output_type": "execute_result"
    },
    {
     "data": {
      "image/png": "[encoded data removed]",
      "text/plain": [
       "<Figure size 432x288 with 1 Axes>"
      ]
     },
     "metadata": {
      "needs_background": "light"
     },
     "output_type": "display_data"
    }
   ],
   "source": [
    "def angle_func(theta):\n",
    "    cos_th = np.cos(theta)\n",
    "    cos_th2 = np.square(cos_th)\n",
    "    cos_th4 = np.power(cos_th, 4)\n",
    "    sign0 = np.sign(cos_th)\n",
    "    sign3 = np.multiply(np.sign(2*cos_th2 - 1), sign0)\n",
    "    sign4 = 2*sign0 + sign3 - 3\n",
    "    res = sign3*(8*cos_th4 - 8*cos_th2 + 1) + sign4\n",
    "    return res\n",
    "\n",
    "x = np.linspace(start=0, stop=np.pi, num=20)\n",
    "y = np.array([angle_func(z) for z in x])\n",
    "plt.plot(x, y)"
   ]
  },
  {
   "cell_type": "code",
   "execution_count": 11,
   "id": "1f2d4e49",
   "metadata": {},
   "outputs": [
    {
     "data": {
      "text/plain": [
       "[<matplotlib.lines.Line2D at 0x11ce2e850>]"
      ]
     },
     "execution_count": 11,
     "metadata": {},
     "output_type": "execute_result"
    },
    {
     "data": {
      "image/png": "[encoded data removed]",
      "text/plain": [
       "<Figure size 432x288 with 1 Axes>"
      ]
     },
     "metadata": {
      "needs_background": "light"
     },
     "output_type": "display_data"
    }
   ],
   "source": [
    "def angle_func(theta, m=4):\n",
    "    s = 0\n",
    "    for k in range(m):\n",
    "        s += (-1)**k * np.cos(m * theta) - (2 * k)\n",
    "    return s\n",
    "\n",
    "x = np.linspace(start=0, stop=np.pi, num=20)\n",
    "y = np.array([angle_func(z) for z in x])\n",
    "plt.plot(x, y)"
   ]
  },
  {
   "cell_type": "code",
   "execution_count": null,
   "id": "9a26c357",
   "metadata": {},
   "outputs": [],
   "source": []
  }
 ],
 "metadata": {
  "kernelspec": {
   "display_name": "Python 3 (ipykernel)",
   "language": "python",
   "name": "python3"
  },
  "language_info": {
   "codemirror_mode": {
    "name": "ipython",
    "version": 3
   },
   "file_extension": ".py",
   "mimetype": "text/x-python",
   "name": "python",
   "nbconvert_exporter": "python",
   "pygments_lexer": "ipython3",
   "version": "3.11.0"
  }
 },
 "nbformat": 4,
 "nbformat_minor": 5
}
